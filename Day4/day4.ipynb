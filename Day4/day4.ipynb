{
 "cells": [
  {
   "cell_type": "code",
   "execution_count": 17,
   "id": "c033517c",
   "metadata": {},
   "outputs": [],
   "source": [
    "with open('d4.txt') as f:\n",
    "    pairs = [line.rstrip('\\n') for line in f]\n",
    "# pairs"
   ]
  },
  {
   "cell_type": "code",
   "execution_count": 19,
   "id": "18b2897a",
   "metadata": {},
   "outputs": [
    {
     "name": "stdout",
     "output_type": "stream",
     "text": [
      "921\n"
     ]
    }
   ],
   "source": [
    "no_of_overlaps = 0\n",
    "\n",
    "for line in pairs:\n",
    "    \n",
    "    x = line.split(',')[0]\n",
    "    y = line.split(',')[1]\n",
    "    \n",
    "    x_min = int(x.split('-')[0])\n",
    "    x_max = int(x.split('-')[1])\n",
    "    y_min = int(y.split('-')[0])\n",
    "    y_max = int(y.split('-')[1])\n",
    "    \n",
    "    x_range = range(x_min, x_max+1)\n",
    "    y_range = range(y_min, y_max+1)\n",
    "    \n",
    "    x_len = len(x_range)\n",
    "    y_len = len(y_range)\n",
    "    \n",
    "    overlap_range = list(set(x_range) & set(y_range))\n",
    "    \n",
    "    if overlap_range:\n",
    "        # for part 1\n",
    "#         if len(overlap_range) == x_len or len(overlap_range) == y_len:\n",
    "#             no_of_overlaps = no_of_overlaps +1\n",
    "        no_of_overlaps = no_of_overlaps +1\n",
    "print(no_of_overlaps)      "
   ]
  },
  {
   "cell_type": "code",
   "execution_count": null,
   "id": "b3b8529f",
   "metadata": {},
   "outputs": [],
   "source": []
  }
 ],
 "metadata": {
  "kernelspec": {
   "display_name": "Python 3 (ipykernel)",
   "language": "python",
   "name": "python3"
  },
  "language_info": {
   "codemirror_mode": {
    "name": "ipython",
    "version": 3
   },
   "file_extension": ".py",
   "mimetype": "text/x-python",
   "name": "python",
   "nbconvert_exporter": "python",
   "pygments_lexer": "ipython3",
   "version": "3.9.13"
  }
 },
 "nbformat": 4,
 "nbformat_minor": 5
}

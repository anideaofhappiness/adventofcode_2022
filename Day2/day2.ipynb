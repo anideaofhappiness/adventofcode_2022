{
 "cells": [
  {
   "cell_type": "markdown",
   "id": "c25678eb",
   "metadata": {},
   "source": [
    "# Part One"
   ]
  },
  {
   "cell_type": "code",
   "execution_count": 10,
   "id": "4858c6d4",
   "metadata": {},
   "outputs": [],
   "source": [
    "opp_dict = {'A': 'Rock', 'B': 'Paper', 'C': 'Scissors'}\n",
    "my_dict = {'X': 'Rock', 'Y': 'Paper', 'Z': 'Scissors'}\n",
    "my_score_dict = {'Rock': 1, 'Paper': 2, 'Scissors': 3}\n",
    "outcome_dict = {'lost': 0, 'draw': 3, 'won': 6}"
   ]
  },
  {
   "cell_type": "code",
   "execution_count": 25,
   "id": "daa34b28",
   "metadata": {},
   "outputs": [],
   "source": [
    "with open('d2_a.txt') as f:\n",
    "    strat = [line.rstrip('\\n') for line in f]\n",
    "# strat"
   ]
  },
  {
   "cell_type": "code",
   "execution_count": 24,
   "id": "2032c9af",
   "metadata": {},
   "outputs": [
    {
     "name": "stdout",
     "output_type": "stream",
     "text": [
      "13009\n"
     ]
    }
   ],
   "source": [
    "final_score = 0\n",
    "for line in strat:\n",
    "    opp_play = opp_dict[line.split(' ')[0]]\n",
    "    my_play = my_dict[line.split(' ')[1]]\n",
    "#     print(opp_play)\n",
    "#     print(my_play)\n",
    "    my_score_temp = my_score_dict[my_play]\n",
    "    if(my_play == 'Rock'):\n",
    "#         print(\"I played Rock\")\n",
    "        if(opp_play=='Rock'):\n",
    "            win_score_temp = outcome_dict['draw']\n",
    "        if(opp_play=='Paper'):\n",
    "            win_score_temp = outcome_dict['lost']\n",
    "        if(opp_play=='Scissors'):\n",
    "            win_score_temp = outcome_dict['won']\n",
    "    elif(my_play == 'Paper'):\n",
    "#         print(\"I played Paper\")\n",
    "        if(opp_play=='Rock'):\n",
    "            win_score_temp = outcome_dict['won']\n",
    "        if(opp_play=='Paper'):\n",
    "            win_score_temp = outcome_dict['draw']\n",
    "        if(opp_play=='Scissors'):\n",
    "            win_score_temp = outcome_dict['lost']\n",
    "    elif(my_play == 'Scissors'):\n",
    "#         print(\"I played Scissors\")\n",
    "        if(opp_play=='Rock'):\n",
    "            win_score_temp = outcome_dict['lost']\n",
    "        if(opp_play=='Paper'):\n",
    "            win_score_temp = outcome_dict['won']\n",
    "        if(opp_play=='Scissors'):\n",
    "            win_score_temp = outcome_dict['draw']\n",
    "    score_temp = my_score_temp + win_score_temp\n",
    "#     print(score_temp)\n",
    "    final_score = final_score + score_temp\n",
    "print(final_score)\n",
    "#     print(line.split(' ')[0])\n",
    "#     print(line.split(' ')[1])"
   ]
  },
  {
   "cell_type": "markdown",
   "id": "eac8b73d",
   "metadata": {},
   "source": [
    "# Part Two"
   ]
  },
  {
   "cell_type": "code",
   "execution_count": 28,
   "id": "98eba47c",
   "metadata": {},
   "outputs": [],
   "source": [
    "how_dict = {'X': 'lost', 'Y': 'draw', 'Z': 'won'}"
   ]
  },
  {
   "cell_type": "code",
   "execution_count": 42,
   "id": "29025032",
   "metadata": {},
   "outputs": [
    {
     "name": "stdout",
     "output_type": "stream",
     "text": [
      "10398\n"
     ]
    }
   ],
   "source": [
    "final_score = 0\n",
    "for line in strat:\n",
    "    opp_play = opp_dict[line.split(' ')[0]]\n",
    "    out_play = how_dict[line.split(' ')[1]]\n",
    "    out_score_temp = outcome_dict[out_play]\n",
    "    if(out_play == 'draw'):\n",
    "        win_score_temp = my_score_dict[opp_play]\n",
    "    elif(out_play == 'lost'):\n",
    "        if(opp_play=='Rock'):\n",
    "            win_score_temp = my_score_dict['Scissors']\n",
    "        if(opp_play=='Paper'):\n",
    "            win_score_temp = my_score_dict['Rock']\n",
    "        if(opp_play=='Scissors'):\n",
    "            win_score_temp = my_score_dict['Paper']\n",
    "    elif(out_play == 'won'):\n",
    "        if(opp_play=='Rock'):\n",
    "            win_score_temp = my_score_dict['Paper']\n",
    "        if(opp_play=='Paper'):\n",
    "            win_score_temp = my_score_dict['Scissors']\n",
    "        if(opp_play=='Scissors'):\n",
    "            win_score_temp = my_score_dict['Rock']\n",
    "    score_temp = out_score_temp + win_score_temp\n",
    "    final_score = final_score + score_temp\n",
    "print(final_score)"
   ]
  },
  {
   "cell_type": "code",
   "execution_count": null,
   "id": "37e5787c",
   "metadata": {},
   "outputs": [],
   "source": []
  }
 ],
 "metadata": {
  "kernelspec": {
   "display_name": "Python 3 (ipykernel)",
   "language": "python",
   "name": "python3"
  },
  "language_info": {
   "codemirror_mode": {
    "name": "ipython",
    "version": 3
   },
   "file_extension": ".py",
   "mimetype": "text/x-python",
   "name": "python",
   "nbconvert_exporter": "python",
   "pygments_lexer": "ipython3",
   "version": "3.9.13"
  }
 },
 "nbformat": 4,
 "nbformat_minor": 5
}

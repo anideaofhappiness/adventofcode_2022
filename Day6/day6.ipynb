{
 "cells": [
  {
   "cell_type": "code",
   "execution_count": null,
   "id": "16b412ce",
   "metadata": {},
   "outputs": [],
   "source": [
    "# signal = 'zcfzfwzzqfrljwzlrfnpqdbhtmscgvjw'\n",
    "# signal"
   ]
  },
  {
   "cell_type": "code",
   "execution_count": null,
   "id": "efd2f787",
   "metadata": {},
   "outputs": [],
   "source": [
    "with open('d6.txt', 'r') as file:\n",
    "    signal = file.read().rstrip()\n",
    "    print(signal)"
   ]
  },
  {
   "cell_type": "code",
   "execution_count": null,
   "id": "8f20d1c4",
   "metadata": {},
   "outputs": [],
   "source": [
    "# seq_length = 4\n",
    "seq_length = 14"
   ]
  },
  {
   "cell_type": "code",
   "execution_count": null,
   "id": "e0e997b2",
   "metadata": {},
   "outputs": [],
   "source": [
    "# for i in range(0, len(signal), 1):\n",
    "#     repeat_char = 0\n",
    "#     for char in signal[i:i+seq_length]:\n",
    "#         if signal[i:i+seq_length].count(char) > 1:\n",
    "#             repeat_char += 1\n",
    "#     if repeat_char == 0:\n",
    "#         print(i+seq_length)\n",
    "#         break"
   ]
  },
  {
   "cell_type": "code",
   "execution_count": null,
   "id": "d6694f29",
   "metadata": {},
   "outputs": [],
   "source": [
    "for i in range(0, len(signal), 1):\n",
    "    repeat_char = False\n",
    "    for char in signal[i:i+seq_length]:\n",
    "        if signal[i:i+seq_length].count(char) > 1:\n",
    "            repeat_char = True\n",
    "    if not repeat_char:\n",
    "        print(i+seq_length)\n",
    "        break"
   ]
  },
  {
   "cell_type": "code",
   "execution_count": null,
   "id": "aa524dc8",
   "metadata": {},
   "outputs": [],
   "source": []
  }
 ],
 "metadata": {
  "kernelspec": {
   "display_name": "Python 3 (ipykernel)",
   "language": "python",
   "name": "python3"
  },
  "language_info": {
   "codemirror_mode": {
    "name": "ipython",
    "version": 3
   },
   "file_extension": ".py",
   "mimetype": "text/x-python",
   "name": "python",
   "nbconvert_exporter": "python",
   "pygments_lexer": "ipython3",
   "version": "3.9.13"
  }
 },
 "nbformat": 4,
 "nbformat_minor": 5
}

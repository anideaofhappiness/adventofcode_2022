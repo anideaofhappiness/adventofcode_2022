{
 "cells": [
  {
   "cell_type": "code",
   "execution_count": 1,
   "id": "13f7fd12",
   "metadata": {},
   "outputs": [],
   "source": [
    "import string\n",
    "# string.ascii_lowercase\n",
    "# string.ascii_uppercase\n",
    "# string.ascii_uppercase[25]"
   ]
  },
  {
   "cell_type": "code",
   "execution_count": 2,
   "id": "633c79e3",
   "metadata": {},
   "outputs": [],
   "source": [
    "import itertools"
   ]
  },
  {
   "cell_type": "code",
   "execution_count": 3,
   "id": "aa2465c4",
   "metadata": {},
   "outputs": [],
   "source": [
    "lower_list = list(string.ascii_lowercase)\n",
    "upper_list = list(string.ascii_uppercase)\n",
    "lower_dict = {k: v for v, k in enumerate(lower_list, start=1)}\n",
    "upper_dict = {k: v for v, k in enumerate(upper_list, start=27)}"
   ]
  },
  {
   "cell_type": "markdown",
   "id": "277fc942",
   "metadata": {},
   "source": [
    "# Part 1"
   ]
  },
  {
   "cell_type": "code",
   "execution_count": 4,
   "id": "7eb71f9f",
   "metadata": {},
   "outputs": [],
   "source": [
    "with open('d3.txt') as f:\n",
    "    ruck = [line.rstrip('\\n') for line in f]\n",
    "# ruck"
   ]
  },
  {
   "cell_type": "code",
   "execution_count": 5,
   "id": "f1d39370",
   "metadata": {},
   "outputs": [
    {
     "data": {
      "text/plain": [
       "7848"
      ]
     },
     "execution_count": 5,
     "metadata": {},
     "output_type": "execute_result"
    }
   ],
   "source": [
    "priority_list = []\n",
    "\n",
    "for line in ruck:\n",
    "    line_list = list(line)\n",
    "    n = int(len(line_list)/2)\n",
    "    \n",
    "    first_comp = line_list[0:n]  \n",
    "    second_comp = line_list[n:len(line_list)+1]  \n",
    "\n",
    "    shared_item = list(set(first_comp).intersection(second_comp))\n",
    "\n",
    "    if(shared_item[0].isupper()):\n",
    "        priority = upper_dict[shared_item[0]]\n",
    "        priority_list.append(priority)\n",
    "\n",
    "    else:\n",
    "        priority = lower_dict[shared_item[0]]\n",
    "        priority_list.append(priority)\n",
    "\n",
    "priority_sum = sum(priority_list)\n",
    "priority_sum"
   ]
  },
  {
   "cell_type": "markdown",
   "id": "c959fab3",
   "metadata": {},
   "source": [
    "# Part 2"
   ]
  },
  {
   "cell_type": "code",
   "execution_count": 6,
   "id": "3ad1aaf0",
   "metadata": {},
   "outputs": [],
   "source": [
    "with open('d3.txt') as f:\n",
    "    ruck = [line.rstrip('\\n') for line in f]\n",
    "#     print(ruck)"
   ]
  },
  {
   "cell_type": "code",
   "execution_count": 7,
   "id": "d56f49ed",
   "metadata": {},
   "outputs": [
    {
     "name": "stdout",
     "output_type": "stream",
     "text": [
      "2616\n"
     ]
    }
   ],
   "source": [
    "group_n = 3\n",
    "priority_list = []\n",
    "\n",
    "for i in range(0, len(ruck), group_n):\n",
    "    temp_group = ruck[i:i + group_n]\n",
    "    r1 = list(temp_group[0])\n",
    "    r2 = list(temp_group[1])\n",
    "    r3 = list(temp_group[2])\n",
    "\n",
    "    shared_item = list(set(r1) & set(r2) & set(r3))\n",
    "\n",
    "    if(shared_item[0].isupper()):\n",
    "        priority = upper_dict[shared_item[0]]\n",
    "        priority_list.append(priority)\n",
    "\n",
    "    else:\n",
    "        priority = lower_dict[shared_item[0]]\n",
    "        priority_list.append(priority)\n",
    "\n",
    "priority_sum = sum(priority_list)\n",
    "print(priority_sum)"
   ]
  },
  {
   "cell_type": "code",
   "execution_count": null,
   "id": "3ea75d3a",
   "metadata": {},
   "outputs": [],
   "source": []
  }
 ],
 "metadata": {
  "kernelspec": {
   "display_name": "Python 3 (ipykernel)",
   "language": "python",
   "name": "python3"
  },
  "language_info": {
   "codemirror_mode": {
    "name": "ipython",
    "version": 3
   },
   "file_extension": ".py",
   "mimetype": "text/x-python",
   "name": "python",
   "nbconvert_exporter": "python",
   "pygments_lexer": "ipython3",
   "version": "3.9.13"
  }
 },
 "nbformat": 4,
 "nbformat_minor": 5
}
